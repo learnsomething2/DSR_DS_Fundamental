{
  "nbformat": 4,
  "nbformat_minor": 0,
  "metadata": {
    "colab": {
      "name": "DSR Spoken Digits.ipynb",
      "provenance": [],
      "collapsed_sections": [],
      "authorship_tag": "ABX9TyMuPWAUFTQy1gr58UfoA4KR",
      "include_colab_link": true
    },
    "kernelspec": {
      "name": "python3",
      "display_name": "Python 3"
    },
    "language_info": {
      "name": "python"
    },
    "accelerator": "GPU"
  },
  "cells": [
    {
      "cell_type": "markdown",
      "metadata": {
        "id": "view-in-github",
        "colab_type": "text"
      },
      "source": [
        "<a href=\"https://colab.research.google.com/github/learnsomething2/DSR_DS_Fundamental/blob/main/DSR_Spoken_Digits.ipynb\" target=\"_parent\"><img src=\"https://colab.research.google.com/assets/colab-badge.svg\" alt=\"Open In Colab\"/></a>"
      ]
    },
    {
      "cell_type": "markdown",
      "source": [
        "Sound Computing with neuronal networks\n"
      ],
      "metadata": {
        "id": "RMb_omakfpi0"
      }
    },
    {
      "cell_type": "code",
      "source": [
        "!pip install pydub tensorflow_io"
      ],
      "metadata": {
        "colab": {
          "base_uri": "https://localhost:8080/"
        },
        "id": "TtrWEzgbfuBi",
        "outputId": "ff065d46-86ca-48e8-af81-e1f4f01d0e03"
      },
      "execution_count": 20,
      "outputs": [
        {
          "output_type": "stream",
          "name": "stdout",
          "text": [
            "Requirement already satisfied: pydub in /usr/local/lib/python3.7/dist-packages (0.25.1)\n",
            "Requirement already satisfied: tensorflow_io in /usr/local/lib/python3.7/dist-packages (0.26.0)\n",
            "Requirement already satisfied: tensorflow-io-gcs-filesystem==0.26.0 in /usr/local/lib/python3.7/dist-packages (from tensorflow_io) (0.26.0)\n"
          ]
        }
      ]
    },
    {
      "cell_type": "code",
      "source": [
        "import tensorflow_datasets as tfds\n",
        "\n",
        "(dataset_train_original, dataset_validate_original), info = tfds.load( \n",
        "    \"spoken_digit\",\n",
        "    split=[\"train[:80%]\", \"train[80%:]\"],\n",
        "    with_info = True\n",
        ")\n",
        "info"
      ],
      "metadata": {
        "colab": {
          "base_uri": "https://localhost:8080/"
        },
        "id": "_AxXZO_OgE0s",
        "outputId": "57cc9c0a-6c3f-4ac5-df02-1d0f1921aa9f"
      },
      "execution_count": 21,
      "outputs": [
        {
          "output_type": "execute_result",
          "data": {
            "text/plain": [
              "tfds.core.DatasetInfo(\n",
              "    name='spoken_digit',\n",
              "    version=1.0.9,\n",
              "    description='A free audio dataset of spoken digits. Think MNIST for audio.\n",
              "\n",
              "A simple audio/speech dataset consisting of recordings of spoken digits in wav files at 8kHz.\n",
              "The recordings are trimmed so that they have near minimal silence at the beginnings and ends.\n",
              "\n",
              "5 speakers\n",
              "2,500 recordings (50 of each digit per speaker)\n",
              "English pronunciations\n",
              "\n",
              "Files are named in the following format: {digitLabel}_{speakerName}_{index}.wav',\n",
              "    homepage='https://github.com/Jakobovski/free-spoken-digit-dataset',\n",
              "    features=FeaturesDict({\n",
              "        'audio': Audio(shape=(None,), dtype=tf.int64),\n",
              "        'audio/filename': Text(shape=(), dtype=tf.string),\n",
              "        'label': ClassLabel(shape=(), dtype=tf.int64, num_classes=10),\n",
              "    }),\n",
              "    total_num_examples=2500,\n",
              "    splits={\n",
              "        'train': 2500,\n",
              "    },\n",
              "    supervised_keys=('audio', 'label'),\n",
              "    citation=\"\"\"@ONLINE {Free Spoken Digit Dataset,\n",
              "        author = \"Zohar Jackson\",\n",
              "        title  = \"Spoken_Digit\",\n",
              "        year   = \"2016\",\n",
              "        url    = \"https://github.com/Jakobovski/free-spoken-digit-dataset\"\n",
              "    }\"\"\",\n",
              "    redistribution_info=,\n",
              ")"
            ]
          },
          "metadata": {},
          "execution_count": 21
        }
      ]
    },
    {
      "cell_type": "markdown",
      "source": [
        "Look at your f****ing data.\n"
      ],
      "metadata": {
        "id": "OpVxoUR-jHLw"
      }
    },
    {
      "cell_type": "code",
      "source": [
        "import matplotlib.pyplot as plt\n",
        "from IPython.display import Audio, display\n",
        "import numpy as np\n",
        "import librosa\n",
        "\n",
        "for sample in dataset_train_original.shuffle(2500).take(1):\n",
        "    audio = sample[\"audio\"].numpy().astype(\"float32\")\n",
        "    label = sample[\"label\"].numpy()\n",
        "\n",
        "#   plt.plot(audio)\n",
        "#   plt.show()\n",
        "#   plt.close()\n",
        "\n",
        "# mel spectrogram\n",
        "    mel = librosa.feature.melspectrogram(\n",
        "       y=audio, sr=8000, n_mels=64, hop_length=64, fmax=2000\n",
        "    )\n",
        "    mel /= np.max(mel)\n",
        "#   print(mel.shape)\n",
        "    plt.imshow(mel[::-1, :], cmap=\"inferno\")\n",
        "    plt.title(f\"Label: {label}\")\n",
        " #  display(Audio(audio, rate=8000))\n",
        "\n",
        "   #print(audio)\n",
        "   #print(label)"
      ],
      "metadata": {
        "colab": {
          "base_uri": "https://localhost:8080/",
          "height": 281
        },
        "id": "CKyUrUtSjKYz",
        "outputId": "241667b6-42fa-4619-aa2c-ec0e6c3cb8de"
      },
      "execution_count": 30,
      "outputs": [
        {
          "output_type": "display_data",
          "data": {
            "text/plain": [
              "<Figure size 432x288 with 1 Axes>"
            ],
            "image/png": "[encoded data removed]"
          },
          "metadata": {
            "needs_background": "light"
          }
        }
      ]
    },
    {
      "cell_type": "code",
      "source": [
        "1525 / 8000"
      ],
      "metadata": {
        "colab": {
          "base_uri": "https://localhost:8080/"
        },
        "id": "60_IihUoj_j1",
        "outputId": "acf26dac-28c0-4f57-b0d6-d797e205d2db"
      },
      "execution_count": 23,
      "outputs": [
        {
          "output_type": "execute_result",
          "data": {
            "text/plain": [
              "0.190625"
            ]
          },
          "metadata": {},
          "execution_count": 23
        }
      ]
    },
    {
      "cell_type": "code",
      "source": [
        "import tensorflow as tf\n",
        "import tensorflow_io as tfio\n",
        "\n",
        "def preprocess(sample):\n",
        "  audio = sample[\"audio\"]\n",
        "  label = sample[\"label\"]\n",
        "   \n",
        "  audio = tf.cast(audio, tf.float32) / 32768.0\n",
        "\n",
        "  spectrogram = tfio.audio.spectrogram(\n",
        "      audio, nfft=1024, window=1024, stride=64\n",
        "  )\n",
        "  spectrogram = tfio.audio.melscale(\n",
        "      spectrogram, rate=8000, mels=64, fmin=0, fmax=2000\n",
        "  )\n",
        "  spectrogram /= tf.math.reduce_max(spectrogram)\n",
        "  spectrogram = tf.expand_dims(spectrogram, axis=-1)\n",
        "  spectrogram = tf.image.resize(spectrogram, (64,64))\n",
        "  spectrogram = tf.transpose(spectrogram, perm=(1, 0, 2))\n",
        "  spectrogram = spectrogram[::-1, :, :]\n",
        "\n",
        "  return spectrogram, label\n",
        "\n",
        "dataset = dataset_train_original.map(lambda sample: preprocess(sample))\n",
        "\n",
        "for x, y in dataset.take(1):\n",
        "  x = x.numpy()\n",
        "  print(x.shape)\n",
        "  plt.imshow(x.squeeze(), cmap=\"inferno\")\n"
      ],
      "metadata": {
        "colab": {
          "base_uri": "https://localhost:8080/",
          "height": 286
        },
        "id": "TEDC6wOsxB2D",
        "outputId": "5a27423b-5369-4fc1-907b-b77c250e1f54"
      },
      "execution_count": 24,
      "outputs": [
        {
          "output_type": "stream",
          "name": "stdout",
          "text": [
            "(64, 64, 1)\n"
          ]
        },
        {
          "output_type": "display_data",
          "data": {
            "text/plain": [
              "<Figure size 432x288 with 1 Axes>"
            ],
            "image/png": "[encoded data removed]"
          },
          "metadata": {
            "needs_background": "light"
          }
        }
      ]
    },
    {
      "cell_type": "code",
      "source": [
        "dataset_train = dataset_train_original.map(lambda sample: preprocess(sample))\n",
        "dataset_train = dataset_train.cache()\n",
        "dataset_train = dataset_train.shuffle(2500)\n",
        "dataset_train = dataset_train.batch(32)\n",
        "\n",
        "dataset_validate = dataset_validate_original.map(lambda sample: preprocess(sample))\n",
        "dataset_validate = dataset_validate.cache()\n",
        "dataset_validate = dataset_validate.batch(32)\n",
        "\n"
      ],
      "metadata": {
        "id": "q-tsuFJuIB5J"
      },
      "execution_count": 25,
      "outputs": []
    },
    {
      "cell_type": "code",
      "source": [
        "epochs = 50\n",
        "\n",
        "from tensorflow.keras import models, layers\n",
        "\n",
        "model = models.Sequential()\n",
        "\n",
        "model.add(layers.Conv2D(4, (3, 3), padding=\"same\", activation=\"relu\", input_shape=(64, 64, 1)))\n",
        "model.add(layers.MaxPooling2D((2, 2)))\n",
        "\n",
        "model.add(layers.Conv2D(8, (3, 3), padding=\"same\", activation=\"relu\"))\n",
        "model.add(layers.MaxPooling2D((2, 2)))\n",
        "\n",
        "model.add(layers.Conv2D(8, (3, 3), padding=\"same\", activation=\"relu\"))\n",
        "model.add(layers.MaxPooling2D((2, 2)))\n",
        "\n",
        "model.add(layers.Conv2D(16, (3, 3), padding=\"same\", activation=\"relu\"))\n",
        "model.add(layers.MaxPooling2D((2, 2)))\n",
        "\n",
        "model.add(layers.Flatten())\n",
        "model.add(layers.Dense(64, activation=\"relu\"))\n",
        "model.add(layers.Dense(10, activation=\"softmax\"))\n",
        "model.summary()\n",
        "\n",
        "model.compile(\n",
        "    optimizer=\"adam\",\n",
        "    loss=\"sparse_categorical_crossentropy\",\n",
        "    metrics=[\"accuracy\"]\n",
        ")\n",
        "\n",
        "history = model.fit(\n",
        "    dataset_train,\n",
        "    epochs=epochs,\n",
        "    validation_data=dataset_validate\n",
        "\n",
        ")"
      ],
      "metadata": {
        "colab": {
          "base_uri": "https://localhost:8080/"
        },
        "id": "LjlscVgHIQHY",
        "outputId": "c6c57dac-1a94-4317-9d36-1d01c768286f"
      },
      "execution_count": 26,
      "outputs": [
        {
          "output_type": "stream",
          "name": "stdout",
          "text": [
            "Model: \"sequential_7\"\n",
            "_________________________________________________________________\n",
            " Layer (type)                Output Shape              Param #   \n",
            "=================================================================\n",
            " conv2d_25 (Conv2D)          (None, 64, 64, 4)         40        \n",
            "                                                                 \n",
            " max_pooling2d_25 (MaxPoolin  (None, 32, 32, 4)        0         \n",
            " g2D)                                                            \n",
            "                                                                 \n",
            " conv2d_26 (Conv2D)          (None, 32, 32, 8)         296       \n",
            "                                                                 \n",
            " max_pooling2d_26 (MaxPoolin  (None, 16, 16, 8)        0         \n",
            " g2D)                                                            \n",
            "                                                                 \n",
            " conv2d_27 (Conv2D)          (None, 16, 16, 8)         584       \n",
            "                                                                 \n",
            " max_pooling2d_27 (MaxPoolin  (None, 8, 8, 8)          0         \n",
            " g2D)                                                            \n",
            "                                                                 \n",
            " conv2d_28 (Conv2D)          (None, 8, 8, 16)          1168      \n",
            "                                                                 \n",
            " max_pooling2d_28 (MaxPoolin  (None, 4, 4, 16)         0         \n",
            " g2D)                                                            \n",
            "                                                                 \n",
            " flatten_7 (Flatten)         (None, 256)               0         \n",
            "                                                                 \n",
            " dense_8 (Dense)             (None, 64)                16448     \n",
            "                                                                 \n",
            " dense_9 (Dense)             (None, 10)                650       \n",
            "                                                                 \n",
            "=================================================================\n",
            "Total params: 19,186\n",
            "Trainable params: 19,186\n",
            "Non-trainable params: 0\n",
            "_________________________________________________________________\n",
            "Epoch 1/50\n",
            "63/63 [==============================] - 14s 88ms/step - loss: 1.8876 - accuracy: 0.3705 - val_loss: 1.0915 - val_accuracy: 0.5960\n",
            "Epoch 2/50\n",
            "63/63 [==============================] - 1s 12ms/step - loss: 0.8089 - accuracy: 0.7075 - val_loss: 0.6712 - val_accuracy: 0.7800\n",
            "Epoch 3/50\n",
            "63/63 [==============================] - 1s 13ms/step - loss: 0.5396 - accuracy: 0.8150 - val_loss: 0.5271 - val_accuracy: 0.8180\n",
            "Epoch 4/50\n",
            "63/63 [==============================] - 1s 14ms/step - loss: 0.4116 - accuracy: 0.8615 - val_loss: 0.4528 - val_accuracy: 0.8480\n",
            "Epoch 5/50\n",
            "63/63 [==============================] - 1s 13ms/step - loss: 0.3251 - accuracy: 0.8955 - val_loss: 0.4138 - val_accuracy: 0.8680\n",
            "Epoch 6/50\n",
            "63/63 [==============================] - 1s 14ms/step - loss: 0.2968 - accuracy: 0.8980 - val_loss: 0.3687 - val_accuracy: 0.8820\n",
            "Epoch 7/50\n",
            "63/63 [==============================] - 1s 13ms/step - loss: 0.2438 - accuracy: 0.9250 - val_loss: 0.3451 - val_accuracy: 0.8820\n",
            "Epoch 8/50\n",
            "63/63 [==============================] - 1s 13ms/step - loss: 0.2162 - accuracy: 0.9260 - val_loss: 0.3847 - val_accuracy: 0.8740\n",
            "Epoch 9/50\n",
            "63/63 [==============================] - 1s 12ms/step - loss: 0.1803 - accuracy: 0.9450 - val_loss: 0.3772 - val_accuracy: 0.8960\n",
            "Epoch 10/50\n",
            "63/63 [==============================] - 1s 13ms/step - loss: 0.1536 - accuracy: 0.9480 - val_loss: 0.2905 - val_accuracy: 0.9080\n",
            "Epoch 11/50\n",
            "63/63 [==============================] - 1s 11ms/step - loss: 0.1034 - accuracy: 0.9720 - val_loss: 0.2503 - val_accuracy: 0.9420\n",
            "Epoch 12/50\n",
            "63/63 [==============================] - 1s 10ms/step - loss: 0.0918 - accuracy: 0.9740 - val_loss: 0.3894 - val_accuracy: 0.9000\n",
            "Epoch 13/50\n",
            "63/63 [==============================] - 1s 12ms/step - loss: 0.1256 - accuracy: 0.9605 - val_loss: 0.2558 - val_accuracy: 0.9280\n",
            "Epoch 14/50\n",
            "63/63 [==============================] - 1s 15ms/step - loss: 0.0663 - accuracy: 0.9845 - val_loss: 0.3099 - val_accuracy: 0.9180\n",
            "Epoch 15/50\n",
            "63/63 [==============================] - 1s 13ms/step - loss: 0.0756 - accuracy: 0.9765 - val_loss: 0.3618 - val_accuracy: 0.9100\n",
            "Epoch 16/50\n",
            "63/63 [==============================] - 1s 11ms/step - loss: 0.0527 - accuracy: 0.9860 - val_loss: 0.3498 - val_accuracy: 0.9220\n",
            "Epoch 17/50\n",
            "63/63 [==============================] - 1s 11ms/step - loss: 0.0564 - accuracy: 0.9805 - val_loss: 0.2703 - val_accuracy: 0.9420\n",
            "Epoch 18/50\n",
            "63/63 [==============================] - 1s 10ms/step - loss: 0.0520 - accuracy: 0.9845 - val_loss: 0.2616 - val_accuracy: 0.9460\n",
            "Epoch 19/50\n",
            "63/63 [==============================] - 0s 7ms/step - loss: 0.0545 - accuracy: 0.9835 - val_loss: 0.3016 - val_accuracy: 0.9460\n",
            "Epoch 20/50\n",
            "63/63 [==============================] - 0s 7ms/step - loss: 0.1028 - accuracy: 0.9710 - val_loss: 0.2939 - val_accuracy: 0.9220\n",
            "Epoch 21/50\n",
            "63/63 [==============================] - 0s 7ms/step - loss: 0.0614 - accuracy: 0.9770 - val_loss: 0.2792 - val_accuracy: 0.9400\n",
            "Epoch 22/50\n",
            "63/63 [==============================] - 0s 7ms/step - loss: 0.0250 - accuracy: 0.9945 - val_loss: 0.2324 - val_accuracy: 0.9540\n",
            "Epoch 23/50\n",
            "63/63 [==============================] - 0s 7ms/step - loss: 0.0189 - accuracy: 0.9950 - val_loss: 0.2319 - val_accuracy: 0.9460\n",
            "Epoch 24/50\n",
            "63/63 [==============================] - 0s 7ms/step - loss: 0.0171 - accuracy: 0.9965 - val_loss: 0.2434 - val_accuracy: 0.9520\n",
            "Epoch 25/50\n",
            "63/63 [==============================] - 0s 7ms/step - loss: 0.0141 - accuracy: 0.9980 - val_loss: 0.2416 - val_accuracy: 0.9640\n",
            "Epoch 26/50\n",
            "63/63 [==============================] - 0s 7ms/step - loss: 0.0141 - accuracy: 0.9960 - val_loss: 0.2590 - val_accuracy: 0.9520\n",
            "Epoch 27/50\n",
            "63/63 [==============================] - 0s 7ms/step - loss: 0.0107 - accuracy: 0.9975 - val_loss: 0.2424 - val_accuracy: 0.9600\n",
            "Epoch 28/50\n",
            "63/63 [==============================] - 0s 7ms/step - loss: 0.0350 - accuracy: 0.9875 - val_loss: 0.2250 - val_accuracy: 0.9540\n",
            "Epoch 29/50\n",
            "63/63 [==============================] - 0s 7ms/step - loss: 0.0312 - accuracy: 0.9900 - val_loss: 0.2436 - val_accuracy: 0.9580\n",
            "Epoch 30/50\n",
            "63/63 [==============================] - 0s 7ms/step - loss: 0.0401 - accuracy: 0.9840 - val_loss: 0.2478 - val_accuracy: 0.9440\n",
            "Epoch 31/50\n",
            "63/63 [==============================] - 0s 7ms/step - loss: 0.0218 - accuracy: 0.9935 - val_loss: 0.2311 - val_accuracy: 0.9540\n",
            "Epoch 32/50\n",
            "63/63 [==============================] - 0s 7ms/step - loss: 0.0062 - accuracy: 0.9980 - val_loss: 0.2670 - val_accuracy: 0.9580\n",
            "Epoch 33/50\n",
            "63/63 [==============================] - 0s 7ms/step - loss: 0.0141 - accuracy: 0.9950 - val_loss: 0.2671 - val_accuracy: 0.9500\n",
            "Epoch 34/50\n",
            "63/63 [==============================] - 0s 7ms/step - loss: 0.0354 - accuracy: 0.9880 - val_loss: 0.6489 - val_accuracy: 0.8840\n",
            "Epoch 35/50\n",
            "63/63 [==============================] - 0s 7ms/step - loss: 0.0748 - accuracy: 0.9715 - val_loss: 0.2711 - val_accuracy: 0.9520\n",
            "Epoch 36/50\n",
            "63/63 [==============================] - 0s 8ms/step - loss: 0.0327 - accuracy: 0.9895 - val_loss: 0.2140 - val_accuracy: 0.9540\n",
            "Epoch 37/50\n",
            "63/63 [==============================] - 1s 8ms/step - loss: 0.0097 - accuracy: 0.9970 - val_loss: 0.2008 - val_accuracy: 0.9660\n",
            "Epoch 38/50\n",
            "63/63 [==============================] - 0s 7ms/step - loss: 0.0066 - accuracy: 0.9990 - val_loss: 0.2245 - val_accuracy: 0.9660\n",
            "Epoch 39/50\n",
            "63/63 [==============================] - 0s 7ms/step - loss: 0.0058 - accuracy: 0.9985 - val_loss: 0.2149 - val_accuracy: 0.9620\n",
            "Epoch 40/50\n",
            "63/63 [==============================] - 0s 7ms/step - loss: 0.0021 - accuracy: 1.0000 - val_loss: 0.2204 - val_accuracy: 0.9620\n",
            "Epoch 41/50\n",
            "63/63 [==============================] - 0s 7ms/step - loss: 0.0019 - accuracy: 0.9995 - val_loss: 0.2362 - val_accuracy: 0.9540\n",
            "Epoch 42/50\n",
            "63/63 [==============================] - 0s 7ms/step - loss: 0.0016 - accuracy: 1.0000 - val_loss: 0.2257 - val_accuracy: 0.9640\n",
            "Epoch 43/50\n",
            "63/63 [==============================] - 0s 7ms/step - loss: 0.0012 - accuracy: 1.0000 - val_loss: 0.2313 - val_accuracy: 0.9660\n",
            "Epoch 44/50\n",
            "63/63 [==============================] - 0s 7ms/step - loss: 0.0016 - accuracy: 0.9995 - val_loss: 0.2363 - val_accuracy: 0.9660\n",
            "Epoch 45/50\n",
            "63/63 [==============================] - 0s 7ms/step - loss: 0.0011 - accuracy: 1.0000 - val_loss: 0.2561 - val_accuracy: 0.9620\n",
            "Epoch 46/50\n",
            "63/63 [==============================] - 0s 7ms/step - loss: 9.9345e-04 - accuracy: 1.0000 - val_loss: 0.2492 - val_accuracy: 0.9640\n",
            "Epoch 47/50\n",
            "63/63 [==============================] - 0s 7ms/step - loss: 9.6721e-04 - accuracy: 1.0000 - val_loss: 0.2529 - val_accuracy: 0.9660\n",
            "Epoch 48/50\n",
            "63/63 [==============================] - 0s 7ms/step - loss: 0.0010 - accuracy: 1.0000 - val_loss: 0.2775 - val_accuracy: 0.9540\n",
            "Epoch 49/50\n",
            "63/63 [==============================] - 0s 7ms/step - loss: 8.5587e-04 - accuracy: 1.0000 - val_loss: 0.2606 - val_accuracy: 0.9660\n",
            "Epoch 50/50\n",
            "63/63 [==============================] - 0s 7ms/step - loss: 5.0840e-04 - accuracy: 1.0000 - val_loss: 0.2600 - val_accuracy: 0.9660\n"
          ]
        }
      ]
    }
  ]
}